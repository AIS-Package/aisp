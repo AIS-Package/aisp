{
 "cells": [
  {
   "cell_type": "markdown",
   "metadata": {},
   "source": [
    "#### **1. Importing Required Package and Modules**"
   ]
  },
  {
   "attachments": {},
   "cell_type": "markdown",
   "metadata": {},
   "source": [
    "Installation of the necessary modules."
   ]
  },
  {
   "cell_type": "code",
   "execution_count": 1,
   "metadata": {},
   "outputs": [],
   "source": [
    "%pip install seaborn\n",
    "%pip install scikit-learn\n",
    "%pip install matplotlib\n",
    "%pip install aisp"
   ]
  },
  {
   "cell_type": "code",
   "execution_count": null,
   "metadata": {},
   "outputs": [],
   "source": [
    "# Importing the Artificial Immune Recognition System\n",
    "from aisp.csa import AIRS\n",
    "\n",
    "# Importing other packages. \n",
    "import numpy as np\n",
    "import seaborn as sns\n",
    "import matplotlib.pyplot as plt\n",
    "from sklearn.preprocessing import MinMaxScaler\n",
    "from sklearn.model_selection import train_test_split\n",
    "from sklearn.metrics import confusion_matrix, classification_report, accuracy_score"
   ]
  },
  {
   "cell_type": "markdown",
   "metadata": {},
   "source": [
    "#### **2. Function to normalize data between 0 and 1**"
   ]
  },
  {
   "cell_type": "code",
   "execution_count": 3,
   "metadata": {},
   "outputs": [],
   "source": [
    "# function to normalize the data using functions from scikit-learn.\n",
    "def normalize_data(dados):\n",
    "    scaler = MinMaxScaler().fit(dados)\n",
    "    return scaler.transform(dados)"
   ]
  },
  {
   "cell_type": "markdown",
   "metadata": {},
   "source": [
    "#### **3. Load the database using the seaborn package.**"
   ]
  },
  {
   "attachments": {},
   "cell_type": "markdown",
   "metadata": {},
   "source": [
    "Loading the \"iris\" dataset using the Seaborn library. The iris dataset comprises four floral characteristics, namely the size and width of the sepals and petals. Consequently, there are three output varieties for these samples: setosa, versicolor, and virginica.\n",
    "\n",
    "This dataset is also available at the following links: [kaggle](https://www.kaggle.com/datasets/uciml/iris) and [UCIML](http://archive.ics.uci.edu/dataset/53/iris).\n",
    "\n",
    "Fisher,R. A.. (1988). Iris. UCI Machine Learning Repository. https://doi.org/10.24432/C56C76."
   ]
  },
  {
   "cell_type": "code",
   "execution_count": 4,
   "metadata": {},
   "outputs": [],
   "source": [
    "amostrasName = ['sepal_length', 'sepal_width', 'petal_length', 'petal_width']\n",
    "iris = sns.load_dataset('iris')\n",
    "dados = np.array(iris.get(amostrasName))\n",
    "classes = np.array(iris.get('species'))"
   ]
  },
  {
   "cell_type": "markdown",
   "metadata": {},
   "source": [
    "#### **4. Preprocessing (Scale of inputs [0, 1])**\n",
    "\n",
    "##### **4.1 Separation of training and testing (30% for testing)**"
   ]
  },
  {
   "attachments": {},
   "cell_type": "markdown",
   "metadata": {},
   "source": [
    "Cell responsible for normalizing the data to values between 0 and 1 and for separating the training and testing sets."
   ]
  },
  {
   "cell_type": "code",
   "execution_count": 5,
   "metadata": {},
   "outputs": [],
   "source": [
    "# Normalizing the data between 0 and 1\n",
    "dados = normalize_data(dados)\n",
    "# Generating the training and testing sets.\n",
    "train_x, test_x, train_y, test_y = train_test_split(dados, classes, test_size=0.3)"
   ]
  },
  {
   "cell_type": "markdown",
   "metadata": {},
   "source": [
    "#### **5. Cross Validation.**"
   ]
  },
  {
   "attachments": {},
   "cell_type": "markdown",
   "metadata": {},
   "source": [
    "Model performance is evaluated through cross-validation. In each iteration, 10% of the training data is reserved for testing."
   ]
  },
  {
   "cell_type": "code",
   "execution_count": null,
   "metadata": {},
   "outputs": [
    {
     "name": "stdout",
     "output_type": "stream",
     "text": [
      "The average accuracy is: 0.945455\n",
      "Standard deviation of accuracies: 0.062984\n"
     ]
    }
   ],
   "source": [
    "accuracy_list = list()\n",
    "\n",
    "# Model Initialization\n",
    "airs = AIRS(\n",
    "    rate_hypermutation=0.7,\n",
    "    rate_mc_init=0.3,\n",
    "    affinity_threshold_scalar=0.8,\n",
    "    k=5\n",
    ")\n",
    "\n",
    "for i in range(0, 50):\n",
    "    # Split the training set, setting aside 1/10 of the data for validation.\n",
    "    train_model_x, valid_x, train__model_y, valid_y = train_test_split(train_x, train_y, test_size=0.1)\n",
    "\n",
    "    # Fit the model using the other 90% of the data\n",
    "    airs.fit(train_model_x, train__model_y, verbose=False)\n",
    "\n",
    "    # Accuracy calculation for validation set:\n",
    "    accuracy_list.append(airs.score(valid_x, valid_y))\n",
    "\n",
    "# Display the mean accuracy and its standard deviation\n",
    "print(f\"The average accuracy is: {np.average(np.array(accuracy_list)):.6f}\")\n",
    "print(f\"Standard deviation of accuracies: {np.std(np.array(accuracy_list)):.6f}\")"
   ]
  },
  {
   "cell_type": "markdown",
   "metadata": {},
   "source": [
    "**6. Fitting the model using the training set in its entirety**"
   ]
  },
  {
   "cell_type": "code",
   "execution_count": 7,
   "metadata": {},
   "outputs": [
    {
     "name": "stderr",
     "output_type": "stream",
     "text": [
      "\u001b[92m✔ Set of memory cells for classes (setosa, versicolor, virginica) successfully generated\u001b[0m:  ┇██████████┇ 105/105 memory cells for each aᵢ"
     ]
    },
    {
     "name": "stdout",
     "output_type": "stream",
     "text": [
      "Model Total Adjusted!\n"
     ]
    },
    {
     "name": "stderr",
     "output_type": "stream",
     "text": [
      "\n"
     ]
    }
   ],
   "source": [
    "# Creating the model with all data separated for training.\n",
    "airs.fit(train_x, train_y)\n",
    "print('Model Total Adjusted!')"
   ]
  },
  {
   "cell_type": "markdown",
   "metadata": {},
   "source": [
    "**7. Display report and confusion matrix for test set**"
   ]
  },
  {
   "cell_type": "code",
   "execution_count": 8,
   "metadata": {},
   "outputs": [
    {
     "name": "stdout",
     "output_type": "stream",
     "text": [
      "The accuracy is 0.9555555555555556\n",
      "              precision    recall  f1-score   support\n",
      "\n",
      "      setosa       1.00      1.00      1.00        17\n",
      "  versicolor       0.93      0.93      0.93        15\n",
      "   virginica       0.92      0.92      0.92        13\n",
      "\n",
      "    accuracy                           0.96        45\n",
      "   macro avg       0.95      0.95      0.95        45\n",
      "weighted avg       0.96      0.96      0.96        45\n",
      "\n"
     ]
    },
    {
     "data": {
      "image/png": "[encoded data removed]",
      "text/plain": [
       "<Figure size 640x480 with 1 Axes>"
      ]
     },
     "metadata": {},
     "output_type": "display_data"
    }
   ],
   "source": [
    "# Previewing classes with test samples.\n",
    "prev_y = airs.predict(test_x)\n",
    "# Showing the accuracy of predictions for actual data.\n",
    "print(f\"The accuracy is {accuracy_score(prev_y, test_y)}\")\n",
    "print(classification_report(test_y, prev_y))\n",
    "# Generating the confusion matrix and plotting it graphically.\n",
    "mat = confusion_matrix(y_true=test_y, y_pred=prev_y)\n",
    "sns.set(font_scale=1.4) \n",
    "sns.heatmap(mat.T, square=True, annot=True, fmt='d', cbar=False, xticklabels=airs.classes, yticklabels=airs.classes)\n",
    "plt.xlabel('Real')\n",
    "plt.ylabel('Estimated')\n",
    "plt.show()"
   ]
  }
 ],
 "metadata": {
  "kernelspec": {
   "display_name": ".venv",
   "language": "python",
   "name": "python3"
  },
  "language_info": {
   "codemirror_mode": {
    "name": "ipython",
    "version": 3
   },
   "file_extension": ".py",
   "mimetype": "text/x-python",
   "name": "python",
   "nbconvert_exporter": "python",
   "pygments_lexer": "ipython3",
   "version": "3.11.4"
  },
  "orig_nbformat": 4
 },
 "nbformat": 4,
 "nbformat_minor": 2
}
