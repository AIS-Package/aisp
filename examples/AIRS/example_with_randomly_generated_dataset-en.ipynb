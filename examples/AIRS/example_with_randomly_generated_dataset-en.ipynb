{
 "cells": [
  {
   "attachments": {},
   "cell_type": "markdown",
   "metadata": {
    "notebookRunGroups": {
     "groupValue": "1"
    }
   },
   "source": [
    "#### **1. Importing Required Package and Modules**"
   ]
  },
  {
   "attachments": {},
   "cell_type": "markdown",
   "metadata": {},
   "source": [
    "Installation of the necessary modules."
   ]
  },
  {
   "cell_type": "code",
   "execution_count": null,
   "metadata": {},
   "outputs": [],
   "source": [
    "%pip install seaborn\n",
    "%pip install scikit-learn\n",
    "%pip install matplotlib\n",
    "%pip install aisp"
   ]
  },
  {
   "cell_type": "code",
   "execution_count": null,
   "metadata": {},
   "outputs": [],
   "source": [
    "# Importing the Artificial Immune Recognition System\n",
    "from aisp.csa import AIRS\n",
    "\n",
    "# Importing other packages. \n",
    "import numpy as np\n",
    "import seaborn as sns\n",
    "from sklearn.datasets import make_blobs\n",
    "from sklearn.model_selection import train_test_split\n",
    "import matplotlib.pyplot as plt\n",
    "from sklearn.metrics import confusion_matrix, classification_report, accuracy_score"
   ]
  },
  {
   "attachments": {},
   "cell_type": "markdown",
   "metadata": {},
   "source": [
    "#### 2. Generating dice bubbles for classes randomly."
   ]
  },
  {
   "attachments": {},
   "cell_type": "markdown",
   "metadata": {},
   "source": [
    "Using the make_blobs function, two sets of data are generated in the form of bubbles, in the range between 0 and 1, representing each class x and y. Then this data is separated into test and training sets."
   ]
  },
  {
   "cell_type": "code",
   "execution_count": null,
   "metadata": {},
   "outputs": [],
   "source": [
    "# Generating the samples and outputs for the training.\n",
    "samples, output = make_blobs(n_samples=500 , n_features=2, cluster_std=0.07, center_box=(0.0, 1.0), centers=[[0.25, 0.75], [0.75, 0.25]], random_state=1234) \n",
    "# Separating data for training and testing.\n",
    "train_x, test_x, train_y, test_y = train_test_split(samples, output, test_size=0.2)"
   ]
  },
  {
   "attachments": {},
   "cell_type": "markdown",
   "metadata": {},
   "source": [
    "#### 3. Testing the model ``AIRS``:\n",
    "Then, it presents the result of the forecast accuracy."
   ]
  },
  {
   "cell_type": "code",
   "execution_count": null,
   "metadata": {},
   "outputs": [],
   "source": [
    "# Starting the class.\n",
    "airs = AIRS(seed=1234)\n",
    "# Carrying out the training:\n",
    "airs.fit(X=train_x, y=train_y)\n",
    "# Previewing classes with test samples.\n",
    "prev_y = airs.predict(test_x)\n",
    "# Showing the accuracy of predictions for data.\n",
    "print(f\"The accuracy is {accuracy_score(prev_y, test_y)}\")\n",
    "print(classification_report(test_y, prev_y))"
   ]
  },
  {
   "cell_type": "code",
   "execution_count": null,
   "metadata": {},
   "outputs": [],
   "source": [
    "# Generating the confusion matrix and plotting it graphically.\n",
    "mat = confusion_matrix(y_true=test_y, y_pred=prev_y)\n",
    "sns.heatmap(mat.T, square=True, annot=True, fmt='d', cbar=False, xticklabels=airs.classes, yticklabels=airs.classes)\n",
    "plt.xlabel('Real')\n",
    "plt.ylabel('Estimated')\n",
    "plt.show()"
   ]
  },
  {
   "attachments": {},
   "cell_type": "markdown",
   "metadata": {},
   "source": [
    "#### 4. Detector and sample plotting:"
   ]
  },
  {
   "cell_type": "code",
   "execution_count": null,
   "metadata": {},
   "outputs": [],
   "source": [
    "fig, ax = plt.subplots(ncols=2, nrows=1, figsize=(16, 7))\n",
    "labels = ['x', 'y']\n",
    "classesIndex = np.array((np.nonzero(output == 0)[0], np.nonzero(output == 1)[0]))\n",
    "\n",
    "for i in range(2):\n",
    "    ax[i].axis([0, 1, 0, 1])\n",
    "    if i == 1:\n",
    "        x = [cell.vector.tolist() for cell in airs.cells_memory[0]]\n",
    "        y = [cell.vector.tolist() for cell in airs.cells_memory[1]]\n",
    "        ax[i].scatter([point[0] for point in x], [point[1] for point in x], label='Memory cells x', color='#f05674')\n",
    "        ax[i].scatter([point[0] for point in y], [point[1] for point in y], label='Memory cells y', color='#a5dab1')\n",
    "        ax[i].set_title('Immune memory cells.')\n",
    "    else:\n",
    "        ax[i].scatter(samples[classesIndex[0], 0], samples[classesIndex[0], 1], label='Samples with output x', color='#1d2a35')\n",
    "        ax[i].scatter(samples[classesIndex[1], 0], samples[classesIndex[1], 1], label='Samples with output y', color='#004aab')\n",
    "        ax[i].set_title('Dataset samples.')\n",
    "\n",
    "ax[1].legend(bbox_to_anchor=(0.75, -0.05), ncol=2)\n",
    "ax[0].legend(bbox_to_anchor=(0.75, -0.05), ncol=2)\n",
    "\n",
    "plt.show()"
   ]
  }
 ],
 "metadata": {
  "kernelspec": {
   "display_name": ".venv",
   "language": "python",
   "name": "python3"
  },
  "language_info": {
   "codemirror_mode": {
    "name": "ipython",
    "version": 3
   },
   "file_extension": ".py",
   "mimetype": "text/x-python",
   "name": "python",
   "nbconvert_exporter": "python",
   "pygments_lexer": "ipython3",
   "version": "3.11.4"
  },
  "orig_nbformat": 4
 },
 "nbformat": 4,
 "nbformat_minor": 2
}
