{
 "cells": [
  {
   "cell_type": "markdown",
   "metadata": {},
   "source": [
    "#### **1. Importing Required Package and Modules**"
   ]
  },
  {
   "attachments": {},
   "cell_type": "markdown",
   "metadata": {},
   "source": [
    "Installation of the necessary modules."
   ]
  },
  {
   "cell_type": "code",
   "execution_count": null,
   "metadata": {},
   "outputs": [],
   "source": [
    "%pip install seaborn\n",
    "%pip install scikit-learn\n",
    "%pip install matplotlib\n",
    "%pip install aisp"
   ]
  },
  {
   "cell_type": "code",
   "execution_count": null,
   "metadata": {},
   "outputs": [],
   "source": [
    "# Importing the negative selection.\n",
    "from aisp.nsa import RNSA\n",
    "\n",
    "# Importing other packages. \n",
    "import numpy as np\n",
    "import seaborn as sns\n",
    "import matplotlib.pyplot as plt\n",
    "from sklearn.preprocessing import MinMaxScaler\n",
    "from sklearn.model_selection import train_test_split\n",
    "from sklearn.metrics import confusion_matrix, classification_report, accuracy_score"
   ]
  },
  {
   "cell_type": "markdown",
   "metadata": {},
   "source": [
    "#### **2. Function to normalize data between 0 and 1**"
   ]
  },
  {
   "cell_type": "code",
   "execution_count": 2,
   "metadata": {},
   "outputs": [],
   "source": [
    "# function to normalize the data using functions from scikit-learn.\n",
    "def normalize_data(dados):\n",
    "    scaler = MinMaxScaler().fit(dados)\n",
    "    return scaler.transform(dados)"
   ]
  },
  {
   "cell_type": "markdown",
   "metadata": {},
   "source": [
    "#### **3. Load the database using the seaborn package.**"
   ]
  },
  {
   "attachments": {},
   "cell_type": "markdown",
   "metadata": {},
   "source": [
    "Loading the \"Geyser\" dataset using the Seaborn library. It contains information about the eruption time of the Old Faithful geyser, with two characteristics: duration and time between eruptions. Hence, the outputs are categorized as either \"long\" or \"short\" eruptions.\n",
    "\n",
    "You can also access this dataset through the following links: [kaggle](https://www.kaggle.com/datasets/pyim59/cours-ml-geyser) and [Github](https://github.com/mwaskom/seaborn-data/blob/master/geyser.csv)."
   ]
  },
  {
   "cell_type": "code",
   "execution_count": 3,
   "metadata": {},
   "outputs": [],
   "source": [
    "amostrasName = ['duration', 'waiting']\n",
    "geyser = sns.load_dataset('geyser')\n",
    "dados = np.array(geyser.get(amostrasName))\n",
    "classes = np.array(geyser.get('kind'))"
   ]
  },
  {
   "cell_type": "markdown",
   "metadata": {},
   "source": [
    "#### **4. Preprocessing (Scale of inputs [0, 1])**\n",
    "\n",
    "##### **4.1 Separation of training and testing (30% for testing)**"
   ]
  },
  {
   "cell_type": "code",
   "execution_count": 4,
   "metadata": {},
   "outputs": [],
   "source": [
    "# Normalizing the data between 0 and 1\n",
    "dados = normalize_data(dados)\n",
    "# Generating the training and testing sets.\n",
    "train_x, test_x, train_y, test_y = train_test_split(dados, classes, test_size=0.30)"
   ]
  },
  {
   "cell_type": "markdown",
   "metadata": {},
   "source": [
    "#### **5. Cross Validation.**"
   ]
  },
  {
   "cell_type": "code",
   "execution_count": 5,
   "metadata": {},
   "outputs": [
    {
     "name": "stdout",
     "output_type": "stream",
     "text": [
      "The average accuracy is: 0.993684\n",
      "Standard deviation of accuracies: 0.020083\n"
     ]
    }
   ],
   "source": [
    "accuracy_list = list()\n",
    "\n",
    "# Model Initialization\n",
    "nsa = RNSA(N=250, r=0.1, r_s=0.01, algorithm='V-detector')\n",
    "for i in range(0, 50):\n",
    "    # Split the training set, setting aside 1/10 of the data for validation.\n",
    "    train_model_x, valid_x, train__model_y, valid_y = train_test_split(train_x, train_y, test_size=0.1)\n",
    "\n",
    "    # Fit the model using the other 90% of the data\n",
    "    nsa.fit(train_model_x, train__model_y, verbose=False)\n",
    "\n",
    "    # Accuracy calculation for validation set:\n",
    "    prev_y = nsa.predict(valid_x)\n",
    "    accuracy_list.append(accuracy_score(prev_y, valid_y))\n",
    "\n",
    "# Display the mean accuracy and its standard deviation\n",
    "print(f\"The average accuracy is: {np.average(np.array(accuracy_list)):.6f}\")\n",
    "print(f\"Standard deviation of accuracies: {np.std(np.array(accuracy_list)):.6f}\")"
   ]
  },
  {
   "cell_type": "markdown",
   "metadata": {},
   "source": [
    "**6. Fitting the model using the training set in its entirety**"
   ]
  },
  {
   "cell_type": "code",
   "execution_count": 6,
   "metadata": {},
   "outputs": [
    {
     "name": "stderr",
     "output_type": "stream",
     "text": [
      "\u001b[92m✔ Non-self detectors for classes (long, short) successfully generated\u001b[0m:  ┇██████████┇ 500/500 detectors"
     ]
    },
    {
     "name": "stdout",
     "output_type": "stream",
     "text": [
      "Model Total Adjusted!\n"
     ]
    },
    {
     "name": "stderr",
     "output_type": "stream",
     "text": [
      "\n"
     ]
    }
   ],
   "source": [
    "# Creating the model with all data separated for training.\n",
    "nsa.fit(train_x, train_y)\n",
    "print('Model Total Adjusted!')"
   ]
  },
  {
   "cell_type": "markdown",
   "metadata": {},
   "source": [
    "**7. Display report and confusion matrix for test set**"
   ]
  },
  {
   "cell_type": "code",
   "execution_count": 7,
   "metadata": {},
   "outputs": [
    {
     "name": "stdout",
     "output_type": "stream",
     "text": [
      "The accuracy is 0.975609756097561\n",
      "              precision    recall  f1-score   support\n",
      "\n",
      "        long       1.00      0.96      0.98        47\n",
      "       short       0.95      1.00      0.97        35\n",
      "\n",
      "    accuracy                           0.98        82\n",
      "   macro avg       0.97      0.98      0.98        82\n",
      "weighted avg       0.98      0.98      0.98        82\n",
      "\n"
     ]
    },
    {
     "data": {
      "image/png": "[encoded data removed]",
      "text/plain": [
       "<Figure size 640x480 with 1 Axes>"
      ]
     },
     "metadata": {},
     "output_type": "display_data"
    }
   ],
   "source": [
    "# Previewing classes with test samples.\n",
    "prev_y = nsa.predict(test_x)\n",
    "# Showing the accuracy of predictions for actual data.\n",
    "print(f\"The accuracy is {accuracy_score(prev_y, test_y)}\")\n",
    "print(classification_report(test_y, prev_y))\n",
    "# Generating the confusion matrix and plotting it graphically.\n",
    "mat = confusion_matrix(y_true=test_y, y_pred=prev_y)\n",
    "sns.heatmap(\n",
    "    mat.T,\n",
    "    square=True,\n",
    "    annot=True,\n",
    "    fmt='d',\n",
    "    cbar=False,\n",
    "    xticklabels=nsa.classes,\n",
    "    yticklabels=nsa.classes\n",
    ")\n",
    "plt.xlabel('Real')\n",
    "plt.ylabel('Estimated')\n",
    "plt.show()"
   ]
  },
  {
   "attachments": {},
   "cell_type": "markdown",
   "metadata": {},
   "source": [
    "# Variable Radius RNSA"
   ]
  },
  {
   "attachments": {},
   "cell_type": "markdown",
   "metadata": {},
   "source": [
    "#### **8. Cross-validation.**"
   ]
  },
  {
   "attachments": {},
   "cell_type": "markdown",
   "metadata": {},
   "source": [
    "The model's performance is evaluated through cross-validation. In each iteration, 10% of the training data is set aside for testing."
   ]
  },
  {
   "cell_type": "code",
   "execution_count": 8,
   "metadata": {},
   "outputs": [
    {
     "name": "stdout",
     "output_type": "stream",
     "text": [
      "The average accuracy is: 0.984211\n",
      "Standard deviation of accuracies: 0.024119\n"
     ]
    }
   ],
   "source": [
    "accuracy_list = list()\n",
    "\n",
    "# Model Initialization\n",
    "nsa = RNSA(N=250, r=0.1, r_s=0.01, algorithm='V-detector')\n",
    "for i in range(0, 50):\n",
    "    # Dividir o conjunto de treinamento, separando 1/10 dos dados para validação.\n",
    "    train_model_x, valid_x, train__model_y, valid_y = train_test_split(train_x, train_y, test_size=0.1)\n",
    "\n",
    "    # Ajustar o modelo usando os outros 90% dos dados\n",
    "    nsa.fit(train_model_x, train__model_y, verbose=False)\n",
    "\n",
    "    # Calculo de acurácia para conjunto de validação: \n",
    "    prev_y = nsa.predict(valid_x)\n",
    "    accuracy_list.append(accuracy_score(prev_y, valid_y))\n",
    "\n",
    "# Exibir a acurácia média e seu desvio padrão\n",
    "print(f\"The average accuracy is: {np.average(np.array(accuracy_list)):.6f}\")\n",
    "print(f\"Standard deviation of accuracies: {np.std(np.array(accuracy_list)):.6f}\")"
   ]
  },
  {
   "attachments": {},
   "cell_type": "markdown",
   "metadata": {},
   "source": [
    "**9. Model fitting using the entire training set.**"
   ]
  },
  {
   "cell_type": "code",
   "execution_count": 9,
   "metadata": {},
   "outputs": [
    {
     "name": "stderr",
     "output_type": "stream",
     "text": [
      "\u001b[92m✔ Non-self detectors for classes (long, short) successfully generated\u001b[0m:  ┇██████████┇ 500/500 detectors"
     ]
    },
    {
     "name": "stdout",
     "output_type": "stream",
     "text": [
      "Model Fully Adjusted!\n"
     ]
    },
    {
     "name": "stderr",
     "output_type": "stream",
     "text": [
      "\n"
     ]
    }
   ],
   "source": [
    "# Criando o modelo com todos os dados separados para treinamento.\n",
    "nsa.fit(train_x, train_y)\n",
    "print('Model Fully Adjusted!')"
   ]
  },
  {
   "attachments": {},
   "cell_type": "markdown",
   "metadata": {},
   "source": [
    "**10. Display report and confusion matrix for the test set.**"
   ]
  },
  {
   "cell_type": "code",
   "execution_count": 10,
   "metadata": {},
   "outputs": [
    {
     "name": "stdout",
     "output_type": "stream",
     "text": [
      "The accuracy is 0.975609756097561\n",
      "              precision    recall  f1-score   support\n",
      "\n",
      "        long       1.00      0.96      0.98        47\n",
      "       short       0.95      1.00      0.97        35\n",
      "\n",
      "    accuracy                           0.98        82\n",
      "   macro avg       0.97      0.98      0.98        82\n",
      "weighted avg       0.98      0.98      0.98        82\n",
      "\n"
     ]
    },
    {
     "data": {
      "image/png": "[encoded data removed]",
      "text/plain": [
       "<Figure size 640x480 with 1 Axes>"
      ]
     },
     "metadata": {},
     "output_type": "display_data"
    }
   ],
   "source": [
    "# Prevendo às classes com as amostras de teste.\n",
    "prev_y = nsa.predict(test_x)\n",
    "# Mostrando a acurácia das previsões para os dados reais.\n",
    "print(f\"The accuracy is {accuracy_score(prev_y, test_y)}\")\n",
    "print(classification_report(test_y, prev_y))\n",
    "# Gerando a matriz de confusão e plotando de forma gráfica.\n",
    "mat = confusion_matrix(y_true=test_y, y_pred=prev_y)\n",
    "sns.set(font_scale=1.4) \n",
    "plt.title(\"Variable Radius Detectors - Confusion Matrix\")\n",
    "sns.heatmap(\n",
    "    mat.T,\n",
    "    square=True,\n",
    "    annot=True,\n",
    "    fmt='d',\n",
    "    cbar=False,\n",
    "    xticklabels=nsa.classes,\n",
    "    yticklabels=nsa.classes\n",
    ")\n",
    "plt.xlabel('Real')\n",
    "plt.ylabel('Esteemed')\n",
    "plt.show()"
   ]
  }
 ],
 "metadata": {
  "kernelspec": {
   "display_name": ".venv",
   "language": "python",
   "name": "python3"
  },
  "language_info": {
   "codemirror_mode": {
    "name": "ipython",
    "version": 3
   },
   "file_extension": ".py",
   "mimetype": "text/x-python",
   "name": "python",
   "nbconvert_exporter": "python",
   "pygments_lexer": "ipython3",
   "version": "3.11.4"
  },
  "orig_nbformat": 4
 },
 "nbformat": 4,
 "nbformat_minor": 2
}
