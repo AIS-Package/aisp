{
 "cells": [
  {
   "attachments": {},
   "cell_type": "markdown",
   "metadata": {},
   "source": [
    "#### **1. Importing Required Package and Modules**"
   ]
  },
  {
   "attachments": {},
   "cell_type": "markdown",
   "metadata": {},
   "source": [
    "Installation of the necessary modules."
   ]
  },
  {
   "cell_type": "code",
   "execution_count": null,
   "metadata": {},
   "outputs": [],
   "source": [
    "%pip install seaborn\n",
    "%pip install scikit-learn\n",
    "%pip install matplotlib\n",
    "%pip install aisp\n",
    "%pip install pandas"
   ]
  },
  {
   "cell_type": "code",
   "execution_count": null,
   "metadata": {},
   "outputs": [],
   "source": [
    "# Importing the negative selection.\n",
    "from aisp.nsa import BNSA\n",
    "\n",
    "# Importing the other packages.\n",
    "import numpy as np\n",
    "import seaborn as sns\n",
    "import pandas as pd\n",
    "import matplotlib.pyplot as plt\n",
    "from sklearn.model_selection import train_test_split\n",
    "from sklearn.metrics import confusion_matrix, classification_report, accuracy_score"
   ]
  },
  {
   "attachments": {},
   "cell_type": "markdown",
   "metadata": {},
   "source": [
    "#### **2. Load the database and binarize them.**"
   ]
  },
  {
   "attachments": {},
   "cell_type": "markdown",
   "metadata": {},
   "source": [
    "Loading the \"Mushroom\" dataset. This dataset contains information about mushrooms with two output categories: poisonous and edible. It includes the following 22 characteristics per sample:\n",
    "\n",
    "1. Cap-shape: convex, conical, flat, knobbed, bell, sunken.\n",
    "2. Cap-surface: fibrous, grooves, smooth, scaly.\n",
    "3. Cap-color: brown, gray, pink, green, purple, red, white, yellow, chocolate.\n",
    "4. Bruises: yes, no.\n",
    "5. Odor: almond, anise, creosote, foul, spicy, fishy, floury, mushroomy, none.\n",
    "6. Gill-attachment: attached, free, none.\n",
    "7. Gill-spacing: close, crowded.\n",
    "8. Gill-size: broad, narrow.\n",
    "9. Gill-color: black, brown, pink, gray, orange, pink, green, purple, red, white, yellow, chocolate.\n",
    "10. Stalk-shape: enlarging, tapering.\n",
    "11. Stalk-root: bulbous, club, cup, equal, rooted, missing.\n",
    "12. Stalk-surface-above-ring: fibrous, scaly, silky, smooth.\n",
    "13. Stalk-surface-below-ring: fibrous, scaly, silky, smooth.\n",
    "14. Stalk-color-above-ring: brown, gray, pink, orange, white, yellow, red, chocolate.\n",
    "15. Stalk-color-below-ring: brown, gray, pink, orange, white, yellow, red, chocolate.\n",
    "16. Veil-type: partial, universal.\n",
    "17. Veil-color: brown, orange, white, yellow.\n",
    "18. Ring-number: none, one, two.\n",
    "19. Ring-type: evanescent, large, none, pendant.\n",
    "20. Spore-print-color: black, brown, pink, green, orange, purple, white, yellow, chocolate.\n",
    "21. Population: abundant, clustered, numerous, scattered, several, solitary.\n",
    "22. Habitat: grasses, leaves, meadows, paths, urban, waste, woods.\n",
    "\n",
    "This dataset is also available at the following links: [kaggle](https://www.kaggle.com/datasets/uciml/mushroom-classification) and [UCIML](https://archive.ics.uci.edu/dataset/73/mushroom).\n",
    "\n",
    "\n",
    "Mushroom. (1987). UCI Machine Learning Repository. https://doi.org/10.24432/C5959T."
   ]
  },
  {
   "cell_type": "code",
   "execution_count": 2,
   "metadata": {},
   "outputs": [],
   "source": [
    "# Load the database\n",
    "url = 'https://archive.ics.uci.edu/ml/machine-learning-databases/mushroom/agaricus-lepiota.data'\n",
    "mushrooms = pd.read_csv(url, header=None)"
   ]
  },
  {
   "attachments": {},
   "cell_type": "markdown",
   "metadata": {},
   "source": [
    "Normalizes the dataset to binary using one-hot encoding with the \"get_dummies\" method from pandas."
   ]
  },
  {
   "cell_type": "code",
   "execution_count": 3,
   "metadata": {},
   "outputs": [
    {
     "name": "stdout",
     "output_type": "stream",
     "text": [
      "Number of samples: 8124\n",
      "Number of dimensions: 95\n"
     ]
    }
   ],
   "source": [
    "# Create column names\n",
    "columns = ['class', 'cap-shape', 'cap-surface', 'cap-color', 'bruises', 'odor', 'gill-attachment',\n",
    "           'gill-spacing', 'gill-size', 'gill-color', 'stalk-shape', 'stalk-root', 'stalk-surface-above-ring',\n",
    "           'stalk-surface-below-ring', 'stalk-color-above-ring', 'stalk-color-below-ring', 'veil-type',\n",
    "           'veil-color', 'ring-number', 'ring-type', 'spore-print-color', 'population', 'habitat']\n",
    "\n",
    "mushrooms.columns = columns\n",
    "\n",
    "# Convert all categorical variables to binary variables\n",
    "mushrooms_binary = pd.get_dummies(mushrooms, columns=columns[1:], drop_first=True)\n",
    "dados = mushrooms_binary.drop('class', axis=1).to_numpy()\n",
    "classes = mushrooms['class'].replace(['e', 'p'], ['edible', 'poisonous']).to_numpy()\n",
    "\n",
    "print(f\"Number of samples: {dados.shape[0]}\\nNumber of dimensions: {dados.shape[1]}\")"
   ]
  },
  {
   "attachments": {},
   "cell_type": "markdown",
   "metadata": {},
   "source": [
    "#### **3. Separation of training and testing (30% for testing)**"
   ]
  },
  {
   "cell_type": "code",
   "execution_count": 4,
   "metadata": {},
   "outputs": [],
   "source": [
    "# Gerando os conjuntos de treinamento e teste.\n",
    "train_x, test_x, train_y, test_y = train_test_split(dados, classes, test_size=0.30)"
   ]
  },
  {
   "cell_type": "markdown",
   "metadata": {},
   "source": [
    "### Average Maximum Distance Approach to Labeling Non-Self Samples"
   ]
  },
  {
   "attachments": {},
   "cell_type": "markdown",
   "metadata": {},
   "source": [
    "#### **4. Cross Validation.**"
   ]
  },
  {
   "attachments": {},
   "cell_type": "markdown",
   "metadata": {},
   "source": [
    "Model performance is evaluated through cross-validation. In each iteration, 10% of the training data is reserved for testing."
   ]
  },
  {
   "cell_type": "code",
   "execution_count": 5,
   "metadata": {},
   "outputs": [
    {
     "name": "stdout",
     "output_type": "stream",
     "text": [
      "The average accuracy is: 0.910721\n",
      "Standard deviation of accuracies: 0.025371\n"
     ]
    }
   ],
   "source": [
    "accuracy_list = list()\n",
    "\n",
    "# Model Initialization\n",
    "model = BNSA(N=250, aff_thresh=0.50, max_discards=1000)\n",
    "\n",
    "for i in range(0, 50):\n",
    "    # Split the training set, setting aside 1/10 of the data for validation.\n",
    "    train_model_x, valid_x, train__model_y, valid_y = train_test_split(train_x, train_y, test_size=0.1)\n",
    "\n",
    "    # Fit the model using the other 90% of the data\n",
    "    model.fit(train_model_x, train__model_y, verbose=False)\n",
    "\n",
    "    # Accuracy calculation for validation set:\n",
    "    prev_y = model.predict(valid_x)\n",
    "    accuracy_list.append(accuracy_score(prev_y, valid_y))\n",
    "\n",
    "# Display the mean accuracy and its standard deviation\n",
    "print(f\"The average accuracy is: {np.average(np.array(accuracy_list)):.6f}\")\n",
    "print(f\"Standard deviation of accuracies: {np.std(np.array(accuracy_list)):.6f}\")"
   ]
  },
  {
   "attachments": {},
   "cell_type": "markdown",
   "metadata": {},
   "source": [
    "**5. Fitting the model using the training set in its entirety****"
   ]
  },
  {
   "cell_type": "code",
   "execution_count": 6,
   "metadata": {},
   "outputs": [
    {
     "name": "stderr",
     "output_type": "stream",
     "text": [
      "\u001b[92m✔ Non-self detectors for classes (edible, poisonous) successfully generated\u001b[0m:  ┇██████████┇ 500/500 detectors"
     ]
    },
    {
     "name": "stdout",
     "output_type": "stream",
     "text": [
      "Model Total Adjusted!\n"
     ]
    },
    {
     "name": "stderr",
     "output_type": "stream",
     "text": [
      "\n"
     ]
    }
   ],
   "source": [
    "# Creating the model with all data separated for training.\n",
    "model.fit(train_x, train_y)\n",
    "print('Model Total Adjusted!')"
   ]
  },
  {
   "attachments": {},
   "cell_type": "markdown",
   "metadata": {},
   "source": [
    "**6. Display report and confusion matrix for test set**"
   ]
  },
  {
   "cell_type": "code",
   "execution_count": 7,
   "metadata": {},
   "outputs": [
    {
     "name": "stdout",
     "output_type": "stream",
     "text": [
      "The accuracy is 0.9081214109926169\n",
      "              precision    recall  f1-score   support\n",
      "\n",
      "      edible       0.86      0.99      0.92      1260\n",
      "   poisonous       0.98      0.82      0.90      1178\n",
      "\n",
      "    accuracy                           0.91      2438\n",
      "   macro avg       0.92      0.91      0.91      2438\n",
      "weighted avg       0.92      0.91      0.91      2438\n",
      "\n"
     ]
    },
    {
     "data": {
      "image/png": "[encoded data removed]",
      "text/plain": [
       "<Figure size 640x480 with 1 Axes>"
      ]
     },
     "metadata": {},
     "output_type": "display_data"
    }
   ],
   "source": [
    "# Previewing classes with test samples.\n",
    "prev_y = model.predict(test_x)\n",
    "# Showing the accuracy of predictions for actual data.\n",
    "print(f\"The accuracy is {accuracy_score(prev_y, test_y)}\")\n",
    "print(classification_report(test_y, prev_y))\n",
    "# Generating the confusion matrix and plotting it graphically.\n",
    "mat = confusion_matrix(y_true=test_y, y_pred=prev_y)\n",
    "sns.heatmap(\n",
    "    mat.T, \n",
    "    square=True, \n",
    "    annot=True, \n",
    "    fmt='d', \n",
    "    cbar=False, \n",
    "    xticklabels=model.classes, \n",
    "    yticklabels=model.classes\n",
    ")\n",
    "plt.xlabel('Real')\n",
    "plt.ylabel('Estimated')\n",
    "plt.show()"
   ]
  },
  {
   "cell_type": "markdown",
   "metadata": {},
   "source": [
    "### Labeling Method by the Greatest Distance from the Nearest Detector to Non-Self Samples"
   ]
  },
  {
   "cell_type": "markdown",
   "metadata": {},
   "source": [
    "#### **5. Validação Cruzada.**"
   ]
  },
  {
   "cell_type": "markdown",
   "metadata": {},
   "source": [
    "O desempenho do modelo é avaliado por meio de validação cruzada. Em cada iteração, 10% dos dados de treinamento são reservados para teste."
   ]
  },
  {
   "cell_type": "code",
   "execution_count": 8,
   "metadata": {},
   "outputs": [
    {
     "name": "stdout",
     "output_type": "stream",
     "text": [
      "The mean accuracy is: 0.915641\n",
      "Standard deviation of accuracies: 0.028040\n"
     ]
    }
   ],
   "source": [
    "accuracy_list = list()\n",
    "\n",
    "# Model Initialization\n",
    "model = BNSA(N=250, aff_thresh=0.50, max_discards=1000, no_label_sample_selection='max_nearest_difference')\n",
    "\n",
    "for i in range(0, 50):\n",
    "    # Split the training set, separating 1/10 of the data for validation.\n",
    "    train_model_x, valid_x, train_model_y, valid_y = train_test_split(train_x, train_y, test_size=0.1)\n",
    "\n",
    "    # Fit the model using the remaining 90% of the data\n",
    "    model.fit(train_model_x, train_model_y, verbose=False)\n",
    "\n",
    "    # Accuracy calculation for the validation set:\n",
    "    pred_y = model.predict(valid_x)\n",
    "    accuracy_list.append(accuracy_score(pred_y, valid_y))\n",
    "\n",
    "# Display the mean accuracy and its standard deviation\n",
    "print(f\"The mean accuracy is: {np.average(np.array(accuracy_list)):.6f}\")\n",
    "print(f\"Standard deviation of accuracies: {np.std(np.array(accuracy_list)):.6f}\")"
   ]
  },
  {
   "cell_type": "markdown",
   "metadata": {},
   "source": [
    "**9. Ajuste do modelo usando o conjunto de treinamento no seu total**"
   ]
  },
  {
   "cell_type": "code",
   "execution_count": 9,
   "metadata": {},
   "outputs": [
    {
     "name": "stderr",
     "output_type": "stream",
     "text": [
      "\u001b[92m✔ Non-self detectors for classes (edible, poisonous) successfully generated\u001b[0m:  ┇██████████┇ 500/500 detectors"
     ]
    },
    {
     "name": "stdout",
     "output_type": "stream",
     "text": [
      "Model fully trained!\n"
     ]
    },
    {
     "name": "stderr",
     "output_type": "stream",
     "text": [
      "\n"
     ]
    }
   ],
   "source": [
    "# Creating the model with all the data separated for training.\n",
    "model.fit(train_x, train_y)\n",
    "print('Model fully trained!')"
   ]
  },
  {
   "cell_type": "markdown",
   "metadata": {},
   "source": [
    "**10. Exibir relatório e matriz de confusão para o conjunto de teste**"
   ]
  },
  {
   "cell_type": "code",
   "execution_count": 10,
   "metadata": {},
   "outputs": [
    {
     "name": "stdout",
     "output_type": "stream",
     "text": [
      "The accuracy is 0.9052502050861362\n",
      "              precision    recall  f1-score   support\n",
      "\n",
      "      edible       0.85      1.00      0.92      1260\n",
      "   poisonous       1.00      0.80      0.89      1178\n",
      "\n",
      "    accuracy                           0.91      2438\n",
      "   macro avg       0.92      0.90      0.90      2438\n",
      "weighted avg       0.92      0.91      0.90      2438\n",
      "\n"
     ]
    },
    {
     "data": {
      "image/png": "[encoded data removed]",
      "text/plain": [
       "<Figure size 640x480 with 1 Axes>"
      ]
     },
     "metadata": {},
     "output_type": "display_data"
    }
   ],
   "source": [
    "# Predicting the classes with the test samples.\n",
    "pred_y = model.predict(test_x)\n",
    "\n",
    "# Displaying the accuracy of the predictions compared to the actual data.\n",
    "print(f\"The accuracy is {accuracy_score(pred_y, test_y)}\")\n",
    "print(classification_report(test_y, pred_y))\n",
    "\n",
    "# Generating the confusion matrix and plotting it graphically.\n",
    "mat = confusion_matrix(y_true=test_y, y_pred=pred_y)\n",
    "sns.heatmap(\n",
    "    mat.T, \n",
    "    square=True, \n",
    "    annot=True, \n",
    "    fmt='d', \n",
    "    cbar=False, \n",
    "    xticklabels=model.classes, \n",
    "    yticklabels=model.classes\n",
    ")\n",
    "plt.xlabel('Actual')\n",
    "plt.ylabel('Predicted')\n",
    "plt.show()"
   ]
  }
 ],
 "metadata": {
  "kernelspec": {
   "display_name": ".venv",
   "language": "python",
   "name": "python3"
  },
  "language_info": {
   "codemirror_mode": {
    "name": "ipython",
    "version": 3
   },
   "file_extension": ".py",
   "mimetype": "text/x-python",
   "name": "python",
   "nbconvert_exporter": "python",
   "pygments_lexer": "ipython3",
   "version": "3.11.4"
  },
  "orig_nbformat": 4
 },
 "nbformat": 4,
 "nbformat_minor": 2
}
