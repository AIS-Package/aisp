{
 "cells": [
  {
   "cell_type": "markdown",
   "metadata": {},
   "source": [
    "#### **1. Importando Pacote e módulos necessários**"
   ]
  },
  {
   "attachments": {},
   "cell_type": "markdown",
   "metadata": {},
   "source": [
    "Instalação dos módulos necessários."
   ]
  },
  {
   "cell_type": "code",
   "execution_count": null,
   "metadata": {},
   "outputs": [],
   "source": [
    "%pip install seaborn\n",
    "%pip install scikit-learn\n",
    "%pip install matplotlib\n",
    "%pip install aisp"
   ]
  },
  {
   "cell_type": "code",
   "execution_count": 2,
   "metadata": {},
   "outputs": [],
   "source": [
    "# Importando o Sistema Imunológico Artificial de Reconhecimento.\n",
    "from aisp.csa import AIRS\n",
    "\n",
    "# Importando os demais pacotes. \n",
    "import numpy as np\n",
    "import seaborn as sns\n",
    "import matplotlib.pyplot as plt\n",
    "from sklearn.preprocessing import MinMaxScaler\n",
    "from sklearn.model_selection import train_test_split\n",
    "from sklearn.metrics import confusion_matrix, classification_report, accuracy_score"
   ]
  },
  {
   "cell_type": "markdown",
   "metadata": {},
   "source": [
    "#### **2. Função para normalizar os dados entre 0 e 1**"
   ]
  },
  {
   "cell_type": "code",
   "execution_count": 3,
   "metadata": {},
   "outputs": [],
   "source": [
    "# função para normalizar os dados utilizando funções do scikit-learn.\n",
    "def normalize_dados(dados):\n",
    "    scaler = MinMaxScaler().fit(dados)\n",
    "    return scaler.transform(dados)"
   ]
  },
  {
   "cell_type": "markdown",
   "metadata": {},
   "source": [
    "#### **3. Carregar a base de dados usando o pacote seaborn**"
   ]
  },
  {
   "attachments": {},
   "cell_type": "markdown",
   "metadata": {},
   "source": [
    "Carregando a base de dados \"iris\" através da biblioteca Seaborn. Iris contém quatro características florais, ou seja, o tamanho e a largura das sépalas e pétalas. Logo, existe três variedades de saída para essas amostras: setosa, versicolor e virginica.\n",
    "Essa base de dados também está disponível nos seguintes links, [kaggle](https://www.kaggle.com/datasets/uciml/iris) e [UCIML](http://archive.ics.uci.edu/dataset/53/iris)\n",
    "\n",
    "Fisher,R. A.. (1988). Iris. UCI Machine Learning Repository. https://doi.org/10.24432/C56C76."
   ]
  },
  {
   "cell_type": "code",
   "execution_count": 4,
   "metadata": {},
   "outputs": [],
   "source": [
    "amostrasName = ['sepal_length', 'sepal_width', 'petal_length', 'petal_width']\n",
    "iris = sns.load_dataset('iris')\n",
    "dados = np.array(iris.get(amostrasName))\n",
    "classes = np.array(iris.get('species'))"
   ]
  },
  {
   "cell_type": "markdown",
   "metadata": {},
   "source": [
    "#### **4. Pré-processamento (Escala das entradas [0, 1])**\n",
    "\n",
    "##### **4.1 Separação de treinamento e teste (30% para teste)**"
   ]
  },
  {
   "attachments": {},
   "cell_type": "markdown",
   "metadata": {},
   "source": [
    "Celula responsável pela normalização dos dados para valores entre 0 e 1 e pela separação dos conjuntos de treinamento e teste."
   ]
  },
  {
   "cell_type": "code",
   "execution_count": 5,
   "metadata": {},
   "outputs": [],
   "source": [
    "# Normalizando os dados entre 0 e 1.\n",
    "dados = normalize_dados(dados)\n",
    "# Gerando os conjuntos de treinamento e teste.\n",
    "train_x, test_x, train_y, test_y = train_test_split(dados, classes, test_size=0.30)"
   ]
  },
  {
   "cell_type": "markdown",
   "metadata": {},
   "source": [
    "#### **5. Validação Cruzada.**"
   ]
  },
  {
   "attachments": {},
   "cell_type": "markdown",
   "metadata": {},
   "source": [
    "O desempenho do modelo é avaliado por meio de validação cruzada. Em cada iteração, 10% dos dados de treinamento são reservados para teste."
   ]
  },
  {
   "cell_type": "code",
   "execution_count": 6,
   "metadata": {},
   "outputs": [
    {
     "name": "stdout",
     "output_type": "stream",
     "text": [
      "A acurácia media é: 0.930909\n",
      "Desvio padrão das acurácias: 0.064437\n"
     ]
    }
   ],
   "source": [
    "accuracy_list = list()\n",
    "\n",
    "# Inicialização do Modelo\n",
    "airs = AIRS(\n",
    "    rate_hypermutation=0.8,\n",
    "    rate_mc_init=0.4,\n",
    "    affinity_threshold_scalar=0.8,\n",
    "    k=3\n",
    ")\n",
    "for i in range(0, 50):\n",
    "    # Dividir o conjunto de treinamento, separando 1/10 dos dados para validação.\n",
    "    train_model_x, valid_x, train__model_y, valid_y = train_test_split(train_x, train_y, test_size=0.1)\n",
    "\n",
    "    # Ajustar o modelo usando os outros 90% dos dados\n",
    "    airs.fit(train_model_x, train__model_y, verbose=False)\n",
    "\n",
    "    # Calculo de acurácia para conjunto de validação:\n",
    "    accuracy_list.append(airs.score(valid_x, valid_y))\n",
    "\n",
    "# Exibir a acurácia média e seu desvio padrão\n",
    "print(f\"A acurácia media é: {np.average(np.array(accuracy_list)):.6f}\")\n",
    "print(f\"Desvio padrão das acurácias: {np.std(np.array(accuracy_list)):.6f}\")"
   ]
  },
  {
   "cell_type": "markdown",
   "metadata": {},
   "source": [
    "**6. Ajuste do modelo usando o conjunto de treinamento no seu total**"
   ]
  },
  {
   "cell_type": "code",
   "execution_count": 7,
   "metadata": {},
   "outputs": [
    {
     "name": "stderr",
     "output_type": "stream",
     "text": [
      "\u001b[92m✔ Set of memory cells for classes (setosa, versicolor, virginica) successfully generated\u001b[0m:  ┇██████████┇ 105/105 memory cells for each aᵢ"
     ]
    },
    {
     "name": "stdout",
     "output_type": "stream",
     "text": [
      "Modelo Total Ajustado!\n"
     ]
    },
    {
     "name": "stderr",
     "output_type": "stream",
     "text": [
      "\n"
     ]
    }
   ],
   "source": [
    "# Criando o modelo com todos os dados separados para treinamento.\n",
    "airs.fit(train_x, train_y)\n",
    "print('Modelo Total Ajustado!')"
   ]
  },
  {
   "cell_type": "markdown",
   "metadata": {},
   "source": [
    "**7. Exibir relatório e matriz de confusão para o conjunto de teste**"
   ]
  },
  {
   "cell_type": "code",
   "execution_count": 8,
   "metadata": {},
   "outputs": [
    {
     "name": "stdout",
     "output_type": "stream",
     "text": [
      "A acurácia é 0.9777777777777777\n",
      "              precision    recall  f1-score   support\n",
      "\n",
      "      setosa       1.00      1.00      1.00        14\n",
      "  versicolor       0.91      1.00      0.95        10\n",
      "   virginica       1.00      0.95      0.98        21\n",
      "\n",
      "    accuracy                           0.98        45\n",
      "   macro avg       0.97      0.98      0.98        45\n",
      "weighted avg       0.98      0.98      0.98        45\n",
      "\n"
     ]
    },
    {
     "data": {
      "image/png": "[encoded data removed]",
      "text/plain": [
       "<Figure size 640x480 with 1 Axes>"
      ]
     },
     "metadata": {},
     "output_type": "display_data"
    }
   ],
   "source": [
    "# Prevendo às classes com as amostras de teste.\n",
    "prev_y = airs.predict(test_x)\n",
    "# Mostrando a acurácia das previsões para os dados reais.\n",
    "print(f\"A acurácia é {accuracy_score(prev_y, test_y)}\")\n",
    "print(classification_report(test_y, prev_y))\n",
    "# Gerando a matriz de confusão e plotando de forma gráfica.\n",
    "mat = confusion_matrix(y_true=test_y, y_pred=prev_y)\n",
    "sns.set(font_scale=1.4) \n",
    "plt.title(\"AIRS - Seleção e expansão clonal\")\n",
    "sns.heatmap(mat.T, square=True, annot=True, fmt='d', cbar=False, xticklabels=airs.classes, yticklabels=airs.classes)\n",
    "plt.xlabel('Real')\n",
    "plt.ylabel('Estimado')\n",
    "plt.show()"
   ]
  }
 ],
 "metadata": {
  "kernelspec": {
   "display_name": ".venv",
   "language": "python",
   "name": "python3"
  },
  "language_info": {
   "codemirror_mode": {
    "name": "ipython",
    "version": 3
   },
   "file_extension": ".py",
   "mimetype": "text/x-python",
   "name": "python",
   "nbconvert_exporter": "python",
   "pygments_lexer": "ipython3",
   "version": "3.11.4"
  },
  "orig_nbformat": 4
 },
 "nbformat": 4,
 "nbformat_minor": 2
}
