{
 "cells": [
  {
   "cell_type": "markdown",
   "metadata": {},
   "source": [
    "#### **1. Importando Pacote e módulos necessários**"
   ]
  },
  {
   "attachments": {},
   "cell_type": "markdown",
   "metadata": {},
   "source": [
    "Instalação dos módulos necessários."
   ]
  },
  {
   "cell_type": "code",
   "execution_count": null,
   "metadata": {},
   "outputs": [],
   "source": [
    "%pip install seaborn\n",
    "%pip install scikit-learn\n",
    "%pip install matplotlib\n",
    "%pip install aisp\n",
    "%pip install pandas"
   ]
  },
  {
   "cell_type": "code",
   "execution_count": null,
   "metadata": {},
   "outputs": [],
   "source": [
    "# Importing the negative selection.\n",
    "from aisp.nsa import BNSA\n",
    "# Importando os demais pacotes. \n",
    "import numpy as np\n",
    "import seaborn as sns\n",
    "import pandas as pd\n",
    "import matplotlib.pyplot as plt\n",
    "from sklearn.model_selection import train_test_split\n",
    "from sklearn.metrics import confusion_matrix, classification_report, accuracy_score"
   ]
  },
  {
   "attachments": {},
   "cell_type": "markdown",
   "metadata": {},
   "source": [
    "#### **2. Carregar a base de dados e binarizando-os**"
   ]
  },
  {
   "attachments": {},
   "cell_type": "markdown",
   "metadata": {},
   "source": [
    "Carregando a base de dados \"Mushroom\". Essa base de dados contém informações sobre cogumelos com duas categorias de saída: venenosos e comestíveis. Ela inclui as seguintes 22 características por amostra:\n",
    "\n",
    "- Forma do chapéu (Cap-shape): convexo, cônico, plano, em formato de nódulo, em formato de sino, afundado.\n",
    "- Superfície do chapéu (Cap-surface): fibroso, sulcado, liso, escamoso.\n",
    "- Cor do chapéu (Cap-color): marrom, cinza, rosa, verde, roxo, vermelho, branco, amarelo, chocolate.\n",
    "- Contusões (Bruises): sim, não.\n",
    "- Odor: amêndoa, anis, creosoto, podre, picante, peixe, farinha, cogumelo, sem odor.\n",
    "- Fixação das lamelas (Gill-attachment): anexada, solta, nenhuma.\n",
    "- Espaçamento das lamelas (Gill-spacing): próximo, lotado.\n",
    "- Tamanho das lamelas (Gill-size): largo, estreito.\n",
    "- Cor das lamelas (Gill-color): preto, marrom, rosa, cinza, laranja, rosa, verde, roxo, vermelho, branco, amarelo, chocolate.\n",
    "- Forma do caule (Stalk-shape): alargando, afinando.\n",
    "- Raiz do caule (Stalk-root): bulbosa, clube, taça, igual, enraizada, ausente.\n",
    "- Superfície do caule acima do anel (Stalk-surface-above-ring): fibrosa, escamosa, sedosa, lisa.\n",
    "- Superfície do caule abaixo do anel (Stalk-surface-below-ring): fibrosa, escamosa, sedosa, lisa.\n",
    "- Cor do caule acima do anel (Stalk-color-above-ring): marrom, cinza, rosa, laranja, branco, amarelo, vermelho, chocolate.\n",
    "- Cor do caule abaixo do anel (Stalk-color-below-ring): marrom, cinza, rosa, laranja, branco, amarelo, vermelho, chocolate.\n",
    "- Tipo de véu (Veil-type): parcial, universal.\n",
    "- Cor do véu (Veil-color): marrom, laranja, branco, amarelo.\n",
    "- Número de anéis (Ring-number): nenhum, um, dois.\n",
    "- Tipo de anel (Ring-type): evanescente, grande, nenhum, pendente.\n",
    "- Cor da impressão de esporos (Spore-print-color): preto, marrom, rosa, verde, laranja, roxo, branco, amarelo, chocolate.\n",
    "- População: abundante, agrupada, numerosa, dispersa, várias, solitária.\n",
    "- Habitat: gramados, folhas, pradarias, caminhos, áreas urbanas, resíduos, madeira.\n",
    "\n",
    "Essa base de dados também está disponível nos seguintes links: [kaggle](https://www.kaggle.com/datasets/uciml/mushroom-classification) e [UCIML](https://archive.ics.uci.edu/dataset/73/mushroom).\n",
    "\n",
    "Mushroom. (1987). UCI Machine Learning Repository. https://doi.org/10.24432/C5959T."
   ]
  },
  {
   "cell_type": "code",
   "execution_count": 2,
   "metadata": {},
   "outputs": [],
   "source": [
    "# Carrega a base de dados\n",
    "url = 'https://archive.ics.uci.edu/ml/machine-learning-databases/mushroom/agaricus-lepiota.data'\n",
    "mushrooms = pd.read_csv(url, header=None)"
   ]
  },
  {
   "attachments": {},
   "cell_type": "markdown",
   "metadata": {},
   "source": [
    "Normaliza a base de dados para binaria usando a codificação one-hot utilizando o método \"get_dummies\" do pandas."
   ]
  },
  {
   "cell_type": "code",
   "execution_count": 3,
   "metadata": {},
   "outputs": [
    {
     "name": "stdout",
     "output_type": "stream",
     "text": [
      "Número de amostras: 8124\n",
      "Número de dimensões: 95\n"
     ]
    }
   ],
   "source": [
    "# Cria nomes de colunas\n",
    "columns = ['class', 'cap-shape', 'cap-surface', 'cap-color', 'bruises', 'odor', 'gill-attachment',\n",
    "           'gill-spacing', 'gill-size', 'gill-color', 'stalk-shape', 'stalk-root', 'stalk-surface-above-ring',\n",
    "           'stalk-surface-below-ring', 'stalk-color-above-ring', 'stalk-color-below-ring', 'veil-type',\n",
    "           'veil-color', 'ring-number', 'ring-type', 'spore-print-color', 'population', 'habitat']\n",
    "\n",
    "mushrooms.columns = columns\n",
    "# Converte todas as variáveis categóricas em variáveis binárias\n",
    "mushrooms_binary = pd.get_dummies(mushrooms, columns=columns[1:], drop_first=True)\n",
    "dados = mushrooms_binary.drop('class', axis=1).to_numpy()\n",
    "classes = mushrooms['class'].replace(['e', 'p'], ['Comestível', 'Venenoso']).to_numpy()\n",
    "\n",
    "print(f\"Número de amostras: {dados.shape[0]}\\nNúmero de dimensões: {dados.shape[1]}\")"
   ]
  },
  {
   "attachments": {},
   "cell_type": "markdown",
   "metadata": {},
   "source": [
    "#### **4 Separação de treinamento e teste (30% para teste)**"
   ]
  },
  {
   "cell_type": "code",
   "execution_count": 5,
   "metadata": {},
   "outputs": [],
   "source": [
    "# Gerando os conjuntos de treinamento e teste.\n",
    "train_x, test_x, train_y, test_y = train_test_split(dados, classes, test_size=0.30)"
   ]
  },
  {
   "cell_type": "markdown",
   "metadata": {},
   "source": [
    "### Método da Distância Máxima Média para Rotular Amostras Não-próprias"
   ]
  },
  {
   "cell_type": "markdown",
   "metadata": {},
   "source": [
    "#### **5. Validação Cruzada.**"
   ]
  },
  {
   "cell_type": "markdown",
   "metadata": {},
   "source": [
    "O desempenho do modelo é avaliado por meio de validação cruzada. Em cada iteração, 10% dos dados de treinamento são reservados para teste."
   ]
  },
  {
   "cell_type": "code",
   "execution_count": 6,
   "metadata": {},
   "outputs": [
    {
     "name": "stdout",
     "output_type": "stream",
     "text": [
      "A acurácia média é: 0.926186\n",
      "Desvio padrão das acurácias: 0.020259\n"
     ]
    }
   ],
   "source": [
    "accuracy_list = list()\n",
    "\n",
    "# Model Initialization\n",
    "model = BNSA(N=250, aff_thresh=0.50, max_discards=1000)\n",
    "\n",
    "for i in range(0, 50):\n",
    "    # Dividir o conjunto de treinamento, separando 1/10 dos dados para validação.\n",
    "    train_model_x, valid_x, train__model_y, valid_y = train_test_split(train_x, train_y, test_size=0.1)\n",
    "\n",
    "    # Ajustar o modelo usando os outros 90% dos dados\n",
    "    model.fit(train_model_x, train__model_y, verbose=False)\n",
    "\n",
    "    # Calculo de acurácia para conjunto de validação: \n",
    "    prev_y = model.predict(valid_x)\n",
    "    accuracy_list.append(accuracy_score(prev_y, valid_y))\n",
    "\n",
    "# Exibir a acurácia média e seu desvio padrão\n",
    "print(f\"A acurácia média é: {np.average(np.array(accuracy_list)):.6f}\")\n",
    "print(f\"Desvio padrão das acurácias: {np.std(np.array(accuracy_list)):.6f}\")"
   ]
  },
  {
   "cell_type": "markdown",
   "metadata": {},
   "source": [
    "**6. Ajuste do modelo usando o conjunto de treinamento no seu total**"
   ]
  },
  {
   "cell_type": "code",
   "execution_count": 7,
   "metadata": {},
   "outputs": [
    {
     "name": "stderr",
     "output_type": "stream",
     "text": [
      "\u001b[92m✔ Non-self detectors for classes (Comestível, Venenoso) successfully generated\u001b[0m:  ┇██████████┇ 500/500 detectors"
     ]
    },
    {
     "name": "stdout",
     "output_type": "stream",
     "text": [
      "Modelo Total Ajustado!\n"
     ]
    },
    {
     "name": "stderr",
     "output_type": "stream",
     "text": [
      "\n"
     ]
    }
   ],
   "source": [
    "# Criando o modelo com todos os dados separados para treinamento.\n",
    "model.fit(train_x, train_y)\n",
    "print('Modelo Total Ajustado!')"
   ]
  },
  {
   "cell_type": "markdown",
   "metadata": {},
   "source": [
    "**7. Exibir relatório e matriz de confusão para o conjunto de teste**"
   ]
  },
  {
   "cell_type": "code",
   "execution_count": 8,
   "metadata": {},
   "outputs": [
    {
     "name": "stdout",
     "output_type": "stream",
     "text": [
      "A acuracia é 0.9159146841673503\n",
      "              precision    recall  f1-score   support\n",
      "\n",
      "  Comestível       0.87      0.98      0.92      1273\n",
      "    Venenoso       0.98      0.84      0.91      1165\n",
      "\n",
      "    accuracy                           0.92      2438\n",
      "   macro avg       0.92      0.91      0.91      2438\n",
      "weighted avg       0.92      0.92      0.92      2438\n",
      "\n"
     ]
    },
    {
     "data": {
      "image/png": "[encoded data removed]",
      "text/plain": [
       "<Figure size 640x480 with 1 Axes>"
      ]
     },
     "metadata": {},
     "output_type": "display_data"
    }
   ],
   "source": [
    "# Prevendo às classes com as amostras de teste.\n",
    "prev_y = model.predict(test_x)\n",
    "# Mostrando a acurácia das previsões para os dados reais.\n",
    "print(f\"A acuracia é {accuracy_score(prev_y, test_y)}\")\n",
    "print(classification_report(test_y, prev_y))\n",
    "# Gerando a matriz de confusão e plotando de forma gráfica.\n",
    "mat = confusion_matrix(y_true=test_y, y_pred=prev_y)\n",
    "sns.heatmap(\n",
    "    mat.T, \n",
    "    square=True, \n",
    "    annot=True, \n",
    "    fmt='d', \n",
    "    cbar=False, \n",
    "    xticklabels=model.classes, \n",
    "    yticklabels=model.classes\n",
    ")\n",
    "plt.xlabel('Real')\n",
    "plt.ylabel('Estimado')\n",
    "plt.show()"
   ]
  },
  {
   "cell_type": "markdown",
   "metadata": {},
   "source": [
    "### Método o Detector Mais Próximo com a Maior Distância da Amostras Não-próprias"
   ]
  },
  {
   "cell_type": "markdown",
   "metadata": {},
   "source": [
    "#### **8. Validação Cruzada.**"
   ]
  },
  {
   "attachments": {},
   "cell_type": "markdown",
   "metadata": {},
   "source": [
    "O desempenho do modelo é avaliado por meio de validação cruzada. Em cada iteração, 10% dos dados de treinamento são reservados para teste."
   ]
  },
  {
   "cell_type": "code",
   "execution_count": 9,
   "metadata": {},
   "outputs": [
    {
     "name": "stdout",
     "output_type": "stream",
     "text": [
      "A acurácia média é: 0.911424\n",
      "Desvio padrão das acurácias: 0.023368\n"
     ]
    }
   ],
   "source": [
    "accuracy_list = list()\n",
    "\n",
    "# Model Initialization\n",
    "model = BNSA(N=250, aff_thresh=0.50, max_discards=1000, no_label_sample_selection='max_nearest_difference')\n",
    "\n",
    "for i in range(0, 50):\n",
    "    # Dividir o conjunto de treinamento, separando 1/10 dos dados para validação.\n",
    "    train_model_x, valid_x, train__model_y, valid_y = train_test_split(train_x, train_y, test_size=0.1)\n",
    "\n",
    "    # Ajustar o modelo usando os outros 90% dos dados\n",
    "    model.fit(train_model_x, train__model_y, verbose=False)\n",
    "\n",
    "    # Calculo de acurácia para conjunto de validação: \n",
    "    prev_y = model.predict(valid_x)\n",
    "    accuracy_list.append(accuracy_score(prev_y, valid_y))\n",
    "\n",
    "# Exibir a acurácia média e seu desvio padrão\n",
    "print(f\"A acurácia média é: {np.average(np.array(accuracy_list)):.6f}\")\n",
    "print(f\"Desvio padrão das acurácias: {np.std(np.array(accuracy_list)):.6f}\")"
   ]
  },
  {
   "cell_type": "markdown",
   "metadata": {},
   "source": [
    "**9. Ajuste do modelo usando o conjunto de treinamento no seu total**"
   ]
  },
  {
   "cell_type": "code",
   "execution_count": 10,
   "metadata": {},
   "outputs": [
    {
     "name": "stderr",
     "output_type": "stream",
     "text": [
      "\u001b[92m✔ Non-self detectors for classes (Comestível, Venenoso) successfully generated\u001b[0m:  ┇██████████┇ 500/500 detectors"
     ]
    },
    {
     "name": "stdout",
     "output_type": "stream",
     "text": [
      "Modelo Total Ajustado!\n"
     ]
    },
    {
     "name": "stderr",
     "output_type": "stream",
     "text": [
      "\n"
     ]
    }
   ],
   "source": [
    "# Criando o modelo com todos os dados separados para treinamento.\n",
    "model.fit(train_x, train_y)\n",
    "print('Modelo Total Ajustado!')"
   ]
  },
  {
   "attachments": {},
   "cell_type": "markdown",
   "metadata": {},
   "source": [
    "**10. Exibir relatório e matriz de confusão para o conjunto de teste**"
   ]
  },
  {
   "cell_type": "code",
   "execution_count": 11,
   "metadata": {},
   "outputs": [
    {
     "name": "stdout",
     "output_type": "stream",
     "text": [
      "A acuracia é 0.961033634126333\n",
      "              precision    recall  f1-score   support\n",
      "\n",
      "  Comestível       0.94      0.99      0.96      1273\n",
      "    Venenoso       0.99      0.93      0.96      1165\n",
      "\n",
      "    accuracy                           0.96      2438\n",
      "   macro avg       0.96      0.96      0.96      2438\n",
      "weighted avg       0.96      0.96      0.96      2438\n",
      "\n"
     ]
    },
    {
     "data": {
      "image/png": "[encoded data removed]",
      "text/plain": [
       "<Figure size 640x480 with 1 Axes>"
      ]
     },
     "metadata": {},
     "output_type": "display_data"
    }
   ],
   "source": [
    "# Prevendo às classes com as amostras de teste.\n",
    "prev_y = model.predict(test_x)\n",
    "# Mostrando a acurácia das previsões para os dados reais.\n",
    "print(f\"A acuracia é {accuracy_score(prev_y, test_y)}\")\n",
    "print(classification_report(test_y, prev_y))\n",
    "# Gerando a matriz de confusão e plotando de forma gráfica.\n",
    "mat = confusion_matrix(y_true=test_y, y_pred=prev_y)\n",
    "sns.heatmap(\n",
    "    mat.T, \n",
    "    square=True, \n",
    "    annot=True, \n",
    "    fmt='d', \n",
    "    cbar=False, \n",
    "    xticklabels=model.classes, \n",
    "    yticklabels=model.classes\n",
    ")\n",
    "plt.xlabel('Real')\n",
    "plt.ylabel('Estimado')\n",
    "plt.show()"
   ]
  }
 ],
 "metadata": {
  "kernelspec": {
   "display_name": ".venv",
   "language": "python",
   "name": "python3"
  },
  "language_info": {
   "codemirror_mode": {
    "name": "ipython",
    "version": 3
   },
   "file_extension": ".py",
   "mimetype": "text/x-python",
   "name": "python",
   "nbconvert_exporter": "python",
   "pygments_lexer": "ipython3",
   "version": "3.11.4"
  },
  "orig_nbformat": 4
 },
 "nbformat": 4,
 "nbformat_minor": 2
}
