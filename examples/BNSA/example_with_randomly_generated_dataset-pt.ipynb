{
 "cells": [
  {
   "attachments": {},
   "cell_type": "markdown",
   "metadata": {},
   "source": [
    "#### **1. Importando Pacote e módulos necessários**"
   ]
  },
  {
   "attachments": {},
   "cell_type": "markdown",
   "metadata": {},
   "source": [
    "Instalação dos pacotes necessários."
   ]
  },
  {
   "cell_type": "code",
   "execution_count": null,
   "metadata": {},
   "outputs": [],
   "source": [
    "%pip install seaborn\n",
    "%pip install scikit-learn\n",
    "%pip install matplotlib\n",
    "%pip install aisp"
   ]
  },
  {
   "attachments": {},
   "cell_type": "markdown",
   "metadata": {},
   "source": [
    "Importação dos pacotes"
   ]
  },
  {
   "cell_type": "code",
   "execution_count": 1,
   "metadata": {},
   "outputs": [],
   "source": [
    "# Importando a seleção negativa.\n",
    "from aisp.NSA import BNSA\n",
    "\n",
    "# Importando os demais pacotes. \n",
    "import numpy as np\n",
    "import seaborn as sns\n",
    "import matplotlib.pyplot as plt\n",
    "from scipy.spatial.distance import cdist, hamming\n",
    "from sklearn.model_selection import train_test_split\n",
    "from sklearn.metrics import confusion_matrix, classification_report, accuracy_score"
   ]
  },
  {
   "attachments": {},
   "cell_type": "markdown",
   "metadata": {},
   "source": [
    "# Função para gerar amostras binárias\n",
    "Nesta função, são geradas amostras de dados binários com um grau de similaridade abaixo de um limiar definido s. No entanto, 10% dos primeiros dados são gerados aleatoriamente, sem levar em consideração o valor de s. Além disso, quando já existem amostras, são geradas amostras únicas para a nova classe, garantindo que as amostras aleatórias geradas não estejam duplicadas em classes diferentes."
   ]
  },
  {
   "cell_type": "code",
   "execution_count": 2,
   "metadata": {},
   "outputs": [],
   "source": [
    "def generate_samples(n_samples: int, n_features: int, s: float, x: None):\n",
    "  classe_samples = []\n",
    "  while len(classe_samples) < n_samples:\n",
    "    similarity = 0\n",
    "    sample_rand = np.random.randint(0, 2, size=(n_features))\n",
    "    if(len(classe_samples) > max(int(n_samples * 0.1), 1)):\n",
    "      similarity = cdist(classe_samples, np.expand_dims(sample_rand, axis=0), metric='hamming')[0, :]\n",
    "      if x is not None:\n",
    "        if similarity[0] <= s and not np.any(np.all(sample_rand == x, axis=1)):\n",
    "          classe_samples.append(sample_rand)\n",
    "      elif similarity[0] <= s:\n",
    "        classe_samples.append(sample_rand)\n",
    "    else:\n",
    "      classe_samples.append(sample_rand)\n",
    "  return np.array(classe_samples)"
   ]
  },
  {
   "attachments": {},
   "cell_type": "markdown",
   "metadata": {},
   "source": [
    "# Geração e separação de dados\n",
    "Nessa etapa, são gerados 1000 dados, sendo 500 para representar a classe 'x' e 500 para representar a classe 'y'. Cada dado é formado por 20 dimensões. É importante destacar que esses dados são criados de forma que apresentem um grau de similaridade de 80%, ou seja, compartilham características comuns. Após a geração, os dados são separados em conjuntos de treinamento e teste."
   ]
  },
  {
   "cell_type": "code",
   "execution_count": 3,
   "metadata": {},
   "outputs": [],
   "source": [
    "# Configurando a seed para 121 para garantir a reprodutibilidade dos dados gerados.\n",
    "np.random.seed(121)\n",
    "# Gerando amostras para a classe \"x\".\n",
    "x = generate_samples(500, 20, 0.2, None)\n",
    "# Gerando amostras exclusivas para a classe \"y\", diferentes das amostras presentes na classe \"x\".\n",
    "y = generate_samples(500, 20, 0.2, x)\n",
    "# Adicionando colunas contendo as saídas (rótulos) das classes \"x\" e \"y\".\n",
    "x = np.hstack((x, np.full((x.shape[0], 1), 'x')))\n",
    "y = np.hstack((y, np.full((y.shape[0], 1), 'y')))\n",
    "# Juntando os dois vetores (classes \"x\" e \"y\") e randomizando a ordem das amostras.\n",
    "index = np.random.permutation(x.shape[0]*2)\n",
    "dataset = np.vstack((x, y))[index]\n",
    "\n",
    "# Separando as características (inputs) e as classes de saída (rótulos).\n",
    "samples = dataset[:, :-1].astype(int)\n",
    "output = dataset[:, -1]\n",
    "# Separating data for training and testing.\n",
    "train_x, test_x, train_y, test_y = train_test_split(samples, output, test_size=0.2, random_state=1234321)"
   ]
  },
  {
   "attachments": {},
   "cell_type": "markdown",
   "metadata": {},
   "source": [
    "# Testando o modelo\n",
    "\n",
    "Iniciando o modelo e aplicando-o às amostras geradas aleatoriamente, a configuração atual possui 250 detectores com uma taxa de diferenciação de 30%."
   ]
  },
  {
   "cell_type": "code",
   "execution_count": 4,
   "metadata": {},
   "outputs": [
    {
     "name": "stderr",
     "output_type": "stream",
     "text": [
      "\u001b[92m✔ Non-self detectors for classes (x, y) successfully generated\u001b[0m:  ┇██████████┇ 500/500 detectors\n"
     ]
    },
    {
     "name": "stdout",
     "output_type": "stream",
     "text": [
      "A acurácia é 0.93\n",
      "              precision    recall  f1-score   support\n",
      "\n",
      "           x       0.93      0.91      0.92        90\n",
      "           y       0.93      0.95      0.94       110\n",
      "\n",
      "    accuracy                           0.93       200\n",
      "   macro avg       0.93      0.93      0.93       200\n",
      "weighted avg       0.93      0.93      0.93       200\n",
      "\n"
     ]
    }
   ],
   "source": [
    "# Iniciando a classe.\n",
    "nsa = BNSA(N=250, aff_thresh=0.3, seed=1234321, max_discards=100000)\n",
    "# Efetuando o treinamento: \n",
    "nsa.fit(X=train_x, y=train_y)\n",
    "# Efetuando a previsão:: \n",
    "prev = nsa.predict(X=test_x)\n",
    "# Mostrando a acurácia das previsões para os dados reais.\n",
    "print(f\"A acurácia é {accuracy_score(prev, test_y)}\")\n",
    "print(classification_report(test_y, prev))"
   ]
  },
  {
   "attachments": {},
   "cell_type": "markdown",
   "metadata": {},
   "source": [
    "# Matriz de confusão\n",
    "Aqui está a matriz de confusão, onde a diagonal principal representa as amostras previstas corretamente e a diagonal secundária mostra os falsos positivos. Dos 200 dados de teste, houve 5 falsos positivos para a classe x e 3 falsos positivos para a classe y."
   ]
  },
  {
   "cell_type": "code",
   "execution_count": 5,
   "metadata": {},
   "outputs": [
    {
     "data": {
      "image/png": "[encoded data removed]",
      "text/plain": [
       "<Figure size 640x480 with 1 Axes>"
      ]
     },
     "metadata": {},
     "output_type": "display_data"
    }
   ],
   "source": [
    "# Gerando a matriz de confusão e plotando de forma gráfica.\n",
    "mat = confusion_matrix(y_true=test_y, y_pred=prev)\n",
    "sns.set(font_scale=1.4) \n",
    "sns.heatmap(mat.T, square=True, annot=True, fmt='d', cbar=False, xticklabels=nsa.classes, yticklabels=nsa.classes)\n",
    "plt.xlabel('Rótulo Real')\n",
    "plt.ylabel('Rótulo Previsto')\n",
    "plt.show()"
   ]
  }
 ],
 "metadata": {
  "kernelspec": {
   "display_name": "venv",
   "language": "python",
   "name": "python3"
  },
  "language_info": {
   "codemirror_mode": {
    "name": "ipython",
    "version": 3
   },
   "file_extension": ".py",
   "mimetype": "text/x-python",
   "name": "python",
   "nbconvert_exporter": "python",
   "pygments_lexer": "ipython3",
   "version": "3.11.4"
  },
  "orig_nbformat": 4,
  "vscode": {
   "interpreter": {
    "hash": "17afbcc1c6fd3d78d333d55ef012c8a19ee01db09da952d6314fc50336027dee"
   }
  }
 },
 "nbformat": 4,
 "nbformat_minor": 2
}
