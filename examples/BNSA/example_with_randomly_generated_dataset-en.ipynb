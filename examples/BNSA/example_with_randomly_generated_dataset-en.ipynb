{
 "cells": [
  {
   "attachments": {},
   "cell_type": "markdown",
   "metadata": {
    "notebookRunGroups": {
     "groupValue": "1"
    }
   },
   "source": [
    "#### **1. Importing Required Package and Modules**"
   ]
  },
  {
   "attachments": {},
   "cell_type": "markdown",
   "metadata": {},
   "source": [
    "Installation of the necessary modules."
   ]
  },
  {
   "cell_type": "code",
   "execution_count": null,
   "metadata": {},
   "outputs": [],
   "source": [
    "%pip install seaborn\n",
    "%pip install scikit-learn\n",
    "%pip install matplotlib\n",
    "%pip install aisp"
   ]
  },
  {
   "cell_type": "code",
   "execution_count": 1,
   "metadata": {},
   "outputs": [],
   "source": [
    "# Importing the negative selection.\n",
    "from aisp.NSA import BNSA\n",
    "\n",
    "# Importing other packages. \n",
    "import numpy as np\n",
    "import seaborn as sns\n",
    "import matplotlib.pyplot as plt\n",
    "from scipy.spatial.distance import cdist\n",
    "from sklearn.model_selection import train_test_split\n",
    "from sklearn.metrics import confusion_matrix, classification_report, accuracy_score"
   ]
  },
  {
   "attachments": {},
   "cell_type": "markdown",
   "metadata": {},
   "source": [
    "# Function to generate binary samples\n",
    "In this function, samples of binary data with a degree of similarity above a defined threshold s are generated. However, the first 10% of the data is generated randomly, without taking into account the value of s. Furthermore, when there are already samples, unique samples are generated for the new class, ensuring that the random samples generated are not duplicated in different classes."
   ]
  },
  {
   "cell_type": "code",
   "execution_count": 2,
   "metadata": {},
   "outputs": [],
   "source": [
    "def generate_samples(n_samples: int, n_features: int, s: float, x: None):\n",
    "   class_samples = []\n",
    "   while len(class_samples) < n_samples:\n",
    "     similarity = 0\n",
    "     sample_rand = np.random.randint(0, 2, size=(n_features))\n",
    "     if(len(class_samples) > max(int(n_samples * 0.1), 1)):\n",
    "       similarity = cdist(class_samples, np.expand_dims(sample_rand, axis=0), metric='hamming')[0, :]\n",
    "       if x is not None:\n",
    "         if similarity[0] <= s and not np.any(np.all(sample_rand == x, axis=1)):\n",
    "           class_samples.append(sample_rand)\n",
    "       elif similarity[0] <= s:\n",
    "         class_samples.append(sample_rand)\n",
    "     else:\n",
    "       class_samples.append(sample_rand)\n",
    "   return np.array(class_samples)"
   ]
  },
  {
   "attachments": {},
   "cell_type": "markdown",
   "metadata": {},
   "source": [
    "# Data generation and separation\n",
    "\n",
    "In this step, 1000 pieces of data are generated, 500 representing class 'x' and 500 representing class 'y'. Each die is made up of 20 dimensions. It is important to highlight that these data are created in such a way that they present a degree of similarity of 70%, that is, they share common characteristics. After generation, the data is separated into training and test sets."
   ]
  },
  {
   "cell_type": "code",
   "execution_count": 3,
   "metadata": {},
   "outputs": [],
   "source": [
    "# Setting the seed to 121 to ensure the reproducibility of the generated data.\n",
    "np.random.seed(121)\n",
    "# Generating samples for class \"x\".\n",
    "x = generate_samples(500, 20, 0.2, None)\n",
    "# Generating unique samples for class \"y\", different from samples present in class \"x\".\n",
    "y = generate_samples(500, 20, 0.2, x)\n",
    "# Adding columns containing the outputs (labels) of classes \"x\" and \"y\".\n",
    "x = np.hstack((x, np.full((x.shape[0], 1), 'x')))\n",
    "y = np.hstack((y, np.full((y.shape[0], 1), 'y')))\n",
    "# Merging the two vectors (classes \"x\" and \"y\") and randomizing the order of the samples.\n",
    "index = np.random.permutation(x.shape[0]*2)\n",
    "dataset = np.vstack((x, y))[index]\n",
    "# Separating the characteristics (inputs) and the output classes (labels).\n",
    "samples = dataset[:, :-1].astype(int)\n",
    "output = dataset[:, -1]\n",
    "# Data separation for training and testing.\n",
    "train_x, test_x, train_y, test_y = train_test_split(samples, output, test_size=0.2, random_state=1234321)"
   ]
  },
  {
   "attachments": {},
   "cell_type": "markdown",
   "metadata": {},
   "source": [
    "# Testing the model\n",
    "Starting the model and applying it to randomly generated samples, the current configuration consists of 250 detectors with a differentiation rate of 30%."
   ]
  },
  {
   "cell_type": "code",
   "execution_count": 8,
   "metadata": {},
   "outputs": [
    {
     "name": "stderr",
     "output_type": "stream",
     "text": [
      "\u001b[92m✔ Non-self detectors for classes (x, y) successfully generated\u001b[0m:  ┇██████████┇ 500/500 detectors\n"
     ]
    },
    {
     "name": "stdout",
     "output_type": "stream",
     "text": [
      "The accuracy is 0.93\n",
      "              precision    recall  f1-score   support\n",
      "\n",
      "           x       0.93      0.91      0.92        90\n",
      "           y       0.93      0.95      0.94       110\n",
      "\n",
      "    accuracy                           0.93       200\n",
      "   macro avg       0.93      0.93      0.93       200\n",
      "weighted avg       0.93      0.93      0.93       200\n",
      "\n"
     ]
    }
   ],
   "source": [
    "# Starting the model.\n",
    "nsa = BNSA(N=250, aff_thresh=0.3, seed=1234321, max_discards=100000)\n",
    "# Conducting the training:\n",
    "nsa.fit(X=train_x, y=train_y)\n",
    "# Visualization of classes with test samples.\n",
    "prev_y = nsa.predict(test_x)\n",
    "# Showing the accuracy of predictions for real data.\n",
    "print(f\"The accuracy is {accuracy_score(prev_y, test_y)}\")\n",
    "print(classification_report(test_y, prev_y))"
   ]
  },
  {
   "attachments": {},
   "cell_type": "markdown",
   "metadata": {},
   "source": [
    "# Confusion matrix\n",
    "Here is the confusion matrix, where the main diagonal represents correctly predicted samples and the secondary diagonal shows the false positives. Out of 200 test data points, there were 5 false positives for class x and 3 false positives for class y."
   ]
  },
  {
   "cell_type": "code",
   "execution_count": 5,
   "metadata": {},
   "outputs": [
    {
     "data": {
      "image/png": "[encoded data removed]",
      "text/plain": [
       "<Figure size 640x480 with 1 Axes>"
      ]
     },
     "metadata": {},
     "output_type": "display_data"
    }
   ],
   "source": [
    "# Generating the confusion matrix and plotting it graphically.\n",
    "mat = confusion_matrix(y_true=test_y, y_pred=prev_y)\n",
    "sns.set(font_scale=1.4) \n",
    "sns.heatmap(mat.T, square=True, annot=True, fmt='d', cbar=False, xticklabels=nsa.classes, yticklabels=nsa.classes)\n",
    "plt.xlabel('Real')\n",
    "plt.ylabel('Estimated')\n",
    "plt.show()"
   ]
  }
 ],
 "metadata": {
  "kernelspec": {
   "display_name": "venv",
   "language": "python",
   "name": "python3"
  },
  "language_info": {
   "codemirror_mode": {
    "name": "ipython",
    "version": 3
   },
   "file_extension": ".py",
   "mimetype": "text/x-python",
   "name": "python",
   "nbconvert_exporter": "python",
   "pygments_lexer": "ipython3",
   "version": "3.11.4"
  },
  "orig_nbformat": 4,
  "vscode": {
   "interpreter": {
    "hash": "17afbcc1c6fd3d78d333d55ef012c8a19ee01db09da952d6314fc50336027dee"
   }
  }
 },
 "nbformat": 4,
 "nbformat_minor": 2
}
