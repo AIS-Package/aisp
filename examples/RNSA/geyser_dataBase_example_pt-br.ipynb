{
 "cells": [
  {
   "cell_type": "markdown",
   "metadata": {},
   "source": [
    "#### **1. Importando Pacote e módulos necessários**"
   ]
  },
  {
   "attachments": {},
   "cell_type": "markdown",
   "metadata": {},
   "source": [
    "Instalação dos módulos necessários."
   ]
  },
  {
   "cell_type": "code",
   "execution_count": null,
   "metadata": {},
   "outputs": [],
   "source": [
    "!pip install seaborn\n",
    "!pip install scikit-learn\n",
    "!pip install matplotlib\n",
    "!pip install aisp"
   ]
  },
  {
   "cell_type": "code",
   "execution_count": 2,
   "metadata": {},
   "outputs": [],
   "source": [
    "# Importando a seleção negativa.\n",
    "from aisp.NSA import RNSA\n",
    "\n",
    "# Importando os demais pacotes. \n",
    "import numpy as np\n",
    "import seaborn as sns\n",
    "import matplotlib.pyplot as plt\n",
    "from sklearn.preprocessing import MinMaxScaler\n",
    "from sklearn.model_selection import train_test_split\n",
    "from sklearn.metrics import confusion_matrix, classification_report, accuracy_score"
   ]
  },
  {
   "cell_type": "markdown",
   "metadata": {},
   "source": [
    "#### **2. Função para normalizar os dados entre 0 e 1**"
   ]
  },
  {
   "cell_type": "code",
   "execution_count": 3,
   "metadata": {},
   "outputs": [],
   "source": [
    "# função para normalizar os dados utilizando funções do scikit-learn.\n",
    "def normalizeDados(dados):\n",
    "    scaler = MinMaxScaler().fit(dados)\n",
    "    return scaler.transform(dados)"
   ]
  },
  {
   "cell_type": "markdown",
   "metadata": {},
   "source": [
    "#### **3. Carregar a base de dados usando o pacote seaborn**"
   ]
  },
  {
   "cell_type": "code",
   "execution_count": 4,
   "metadata": {},
   "outputs": [],
   "source": [
    "amostrasName = ['duration', 'waiting']\n",
    "geyser = sns.load_dataset('geyser')\n",
    "dados = np.array(geyser.get(amostrasName))\n",
    "classes = np.array(geyser.get('kind'))"
   ]
  },
  {
   "cell_type": "markdown",
   "metadata": {},
   "source": [
    "#### **4. Pré-processamento (Escala das entradas [0, 1])**\n",
    "\n",
    "##### **4.1 Separação de treinamento e teste (30% para teste)**"
   ]
  },
  {
   "cell_type": "code",
   "execution_count": 5,
   "metadata": {},
   "outputs": [],
   "source": [
    "# Normalizando os dados entre 0 e 1\n",
    "dados = normalizeDados(dados)\n",
    "# Gerando os conjuntos de treinamento e teste.\n",
    "train_x, test_x, train_y, test_y = train_test_split(dados, classes, test_size=0.30)"
   ]
  },
  {
   "cell_type": "markdown",
   "metadata": {},
   "source": [
    "#### **5. Validação Cruzada.**"
   ]
  },
  {
   "cell_type": "code",
   "execution_count": 6,
   "metadata": {},
   "outputs": [
    {
     "name": "stdout",
     "output_type": "stream",
     "text": [
      "A acuracia media é: 0.986316\n",
      "Desvio padrão das acuracias: 0.027469\n"
     ]
    }
   ],
   "source": [
    "accuracy_list = list()\n",
    "\n",
    "# Model Initialization\n",
    "nsa = RNSA(N=350, r=0.05)\n",
    "for i in range(0, 50):\n",
    "    # Dividir o conjunto de treinamento, separando 1/10 dos dados para validação.\n",
    "    train_model_x, valid_x, train__model_y, valid_y = train_test_split(train_x, train_y, test_size=0.1)\n",
    "\n",
    "    # Ajustar o modelo usando os outros 90% dos dados\n",
    "    nsa.fit(train_model_x, train__model_y, verbose=False)\n",
    "\n",
    "    # Calculo de acurácia para conjunto de validação: \n",
    "    prev_y = nsa.predict(valid_x)\n",
    "    accuracy_list.append(accuracy_score(prev_y, valid_y))\n",
    "\n",
    "# Exibir a acurácia média e seu desvio padrão\n",
    "print(f\"A acuracia media é: {np.average(np.array(accuracy_list)):.6f}\")\n",
    "print(f\"Desvio padrão das acuracias: {np.std(np.array(accuracy_list)):.6f}\")"
   ]
  },
  {
   "cell_type": "markdown",
   "metadata": {},
   "source": [
    "**6. Ajuste do modelo usando o conjunto de treinamento no seu total**"
   ]
  },
  {
   "cell_type": "code",
   "execution_count": 7,
   "metadata": {},
   "outputs": [
    {
     "name": "stderr",
     "output_type": "stream",
     "text": [
      "\u001b[92m✔ Non-self detectors for classes (long, short) successfully generated\u001b[0m:  ┇██████████┇ 700/700 detectors"
     ]
    },
    {
     "name": "stdout",
     "output_type": "stream",
     "text": [
      "Modelo Total Ajustado!\n"
     ]
    },
    {
     "name": "stderr",
     "output_type": "stream",
     "text": [
      "\n"
     ]
    }
   ],
   "source": [
    "# Criando o modelo com todos os dados separados para treinamento.\n",
    "nsa.fit(train_x, train_y)\n",
    "print('Modelo Total Ajustado!')"
   ]
  },
  {
   "cell_type": "markdown",
   "metadata": {},
   "source": [
    "**7. Exibir relatório e matriz de confusão para o conjunto de teste**"
   ]
  },
  {
   "cell_type": "code",
   "execution_count": 8,
   "metadata": {},
   "outputs": [
    {
     "name": "stdout",
     "output_type": "stream",
     "text": [
      "A acuracia é 0.9634146341463414\n",
      "              precision    recall  f1-score   support\n",
      "\n",
      "        long       1.00      0.94      0.97        47\n",
      "       short       0.92      1.00      0.96        35\n",
      "\n",
      "    accuracy                           0.96        82\n",
      "   macro avg       0.96      0.97      0.96        82\n",
      "weighted avg       0.97      0.96      0.96        82\n",
      "\n"
     ]
    },
    {
     "data": {
      "image/png": "[encoded data removed]",
      "text/plain": [
       "<Figure size 640x480 with 1 Axes>"
      ]
     },
     "metadata": {},
     "output_type": "display_data"
    }
   ],
   "source": [
    "# Prevendo às classes com as amostras de teste.\n",
    "prev_y = nsa.predict(test_x)\n",
    "# Mostrando a acurácia das previsões para os dados reais.\n",
    "print(f\"A acuracia é {accuracy_score(prev_y, test_y)}\")\n",
    "print(classification_report(test_y, prev_y))\n",
    "# Gerando a matriz de confusão e plotando de forma gráfica.\n",
    "mat = confusion_matrix(y_true=test_y, y_pred=prev_y)\n",
    "sns.heatmap(mat.T, square=True, annot=True, fmt='d', cbar=False, xticklabels=nsa.classes, yticklabels=nsa.classes)\n",
    "plt.xlabel('Real')\n",
    "plt.ylabel('Estimado')\n",
    "plt.show()"
   ]
  }
 ],
 "metadata": {
  "kernelspec": {
   "display_name": "Python 3.10.7 ('venv': venv)",
   "language": "python",
   "name": "python3"
  },
  "language_info": {
   "codemirror_mode": {
    "name": "ipython",
    "version": 3
   },
   "file_extension": ".py",
   "mimetype": "text/x-python",
   "name": "python",
   "nbconvert_exporter": "python",
   "pygments_lexer": "ipython3",
   "version": "3.10.7"
  },
  "orig_nbformat": 4,
  "vscode": {
   "interpreter": {
    "hash": "17afbcc1c6fd3d78d333d55ef012c8a19ee01db09da952d6314fc50336027dee"
   }
  }
 },
 "nbformat": 4,
 "nbformat_minor": 2
}
